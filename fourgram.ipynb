{
  "nbformat": 4,
  "nbformat_minor": 0,
  "metadata": {
    "colab": {
      "provenance": [],
      "collapsed_sections": []
    },
    "kernelspec": {
      "name": "python3",
      "display_name": "Python 3"
    },
    "language_info": {
      "name": "python"
    }
  },
  "cells": [
    {
      "cell_type": "code",
      "source": [
        "import os"
      ],
      "metadata": {
        "id": "lhcxlr2LUw0Z"
      },
      "execution_count": 1,
      "outputs": []
    },
    {
      "cell_type": "code",
      "source": [
        "from google.colab import drive\n",
        "drive.mount('/content/drive')"
      ],
      "metadata": {
        "colab": {
          "base_uri": "https://localhost:8080/"
        },
        "id": "S91OAgfMSrgm",
        "outputId": "4d1c00d1-c68f-4d2c-fca0-2e4ebfb4de44"
      },
      "execution_count": 2,
      "outputs": [
        {
          "output_type": "stream",
          "name": "stdout",
          "text": [
            "Mounted at /content/drive\n"
          ]
        }
      ]
    },
    {
      "cell_type": "code",
      "source": [
        "BASE_PATH = \"/content/drive/MyDrive/makemore_course/\""
      ],
      "metadata": {
        "id": "hGbwB5sdUlRr"
      },
      "execution_count": 3,
      "outputs": []
    },
    {
      "cell_type": "code",
      "source": [
        "NAMES = os.path.join(BASE_PATH, 'names.txt')"
      ],
      "metadata": {
        "id": "DwB5tKuFUrEe"
      },
      "execution_count": 4,
      "outputs": []
    },
    {
      "cell_type": "code",
      "source": [
        "names = []\n",
        "for f in open(NAMES, \"r\"):\n",
        "  names.append(f[:-1])"
      ],
      "metadata": {
        "id": "DtodRcKQU2P0"
      },
      "execution_count": 5,
      "outputs": []
    },
    {
      "cell_type": "code",
      "source": [
        "names[:10]"
      ],
      "metadata": {
        "colab": {
          "base_uri": "https://localhost:8080/"
        },
        "id": "BuRxToGpVVoc",
        "outputId": "8faf8a9b-5624-4392-c750-5ad97d28058c"
      },
      "execution_count": 6,
      "outputs": [
        {
          "output_type": "execute_result",
          "data": {
            "text/plain": [
              "['emma',\n",
              " 'olivia',\n",
              " 'ava',\n",
              " 'isabella',\n",
              " 'sophia',\n",
              " 'charlotte',\n",
              " 'mia',\n",
              " 'amelia',\n",
              " 'harper',\n",
              " 'evelyn']"
            ]
          },
          "metadata": {},
          "execution_count": 6
        }
      ]
    },
    {
      "cell_type": "markdown",
      "source": [
        "\n",
        "\n",
        "**E01**: train a trigram language model, i.e. take two characters as an input to predict the 3rd one. Feel free to use either counting or a neural net. Evaluate the loss; Did it improve over a bigram model?"
      ],
      "metadata": {
        "id": "vhW1Tols7KsE"
      }
    },
    {
      "cell_type": "code",
      "execution_count": 7,
      "metadata": {
        "id": "vPGJ5lMR1u2f"
      },
      "outputs": [],
      "source": [
        "import torch\n",
        "import torch.nn.functional as F\n",
        "import itertools\n",
        "import random"
      ]
    },
    {
      "cell_type": "code",
      "source": [
        "alphabet = list(map(chr, range(97, 123)))\n",
        "alphabet[:5]"
      ],
      "metadata": {
        "colab": {
          "base_uri": "https://localhost:8080/"
        },
        "id": "tnqRia8n1xdj",
        "outputId": "b381300f-62e5-427b-a298-5ee636d4ee11"
      },
      "execution_count": 8,
      "outputs": [
        {
          "output_type": "execute_result",
          "data": {
            "text/plain": [
              "['a', 'b', 'c', 'd', 'e']"
            ]
          },
          "metadata": {},
          "execution_count": 8
        }
      ]
    },
    {
      "cell_type": "code",
      "source": [
        "list(itertools.product(alphabet[:5],repeat=2))"
      ],
      "metadata": {
        "colab": {
          "base_uri": "https://localhost:8080/"
        },
        "id": "DeVmKNu5H-hn",
        "outputId": "3a479acb-c493-4403-ef05-564178a5e923"
      },
      "execution_count": 9,
      "outputs": [
        {
          "output_type": "execute_result",
          "data": {
            "text/plain": [
              "[('a', 'a'),\n",
              " ('a', 'b'),\n",
              " ('a', 'c'),\n",
              " ('a', 'd'),\n",
              " ('a', 'e'),\n",
              " ('b', 'a'),\n",
              " ('b', 'b'),\n",
              " ('b', 'c'),\n",
              " ('b', 'd'),\n",
              " ('b', 'e'),\n",
              " ('c', 'a'),\n",
              " ('c', 'b'),\n",
              " ('c', 'c'),\n",
              " ('c', 'd'),\n",
              " ('c', 'e'),\n",
              " ('d', 'a'),\n",
              " ('d', 'b'),\n",
              " ('d', 'c'),\n",
              " ('d', 'd'),\n",
              " ('d', 'e'),\n",
              " ('e', 'a'),\n",
              " ('e', 'b'),\n",
              " ('e', 'c'),\n",
              " ('e', 'd'),\n",
              " ('e', 'e')]"
            ]
          },
          "metadata": {},
          "execution_count": 9
        }
      ]
    },
    {
      "cell_type": "code",
      "source": [
        "# Possible combinations of two chars (underscore)\n",
        "list(map(lambda x : x[0]+x[1], itertools.product(alphabet[:3],repeat = 2))) "
      ],
      "metadata": {
        "colab": {
          "base_uri": "https://localhost:8080/"
        },
        "id": "wikip9-u2gMu",
        "outputId": "2811e0cc-4780-4e07-a750-c21e752a99ab"
      },
      "execution_count": 10,
      "outputs": [
        {
          "output_type": "execute_result",
          "data": {
            "text/plain": [
              "['aa', 'ab', 'ac', 'ba', 'bb', 'bc', 'ca', 'cb', 'cc']"
            ]
          },
          "metadata": {},
          "execution_count": 10
        }
      ]
    },
    {
      "cell_type": "code",
      "source": [
        "comb2 = list(map(lambda x : x[0]+x[1], itertools.product(alphabet,repeat = 2))) \n",
        "random.sample(comb2,10)"
      ],
      "metadata": {
        "colab": {
          "base_uri": "https://localhost:8080/"
        },
        "id": "88oRtXlY3jUZ",
        "outputId": "3426351c-5302-478b-d4a0-b69b897d4193"
      },
      "execution_count": 11,
      "outputs": [
        {
          "output_type": "execute_result",
          "data": {
            "text/plain": [
              "['tr', 'lz', 'ph', 'du', 'pl', 'fh', 'sq', 'ah', 'fa', 'ks']"
            ]
          },
          "metadata": {},
          "execution_count": 11
        }
      ]
    },
    {
      "cell_type": "code",
      "source": [
        "comb3 = list(map(lambda x : x[0]+x[1], itertools.product(alphabet,comb2))) \n",
        "random.sample(comb3,10)"
      ],
      "metadata": {
        "colab": {
          "base_uri": "https://localhost:8080/"
        },
        "id": "I0lv7KcVrbsF",
        "outputId": "0e1611c9-2dc2-4639-b4ac-0b6050f4d152"
      },
      "execution_count": 22,
      "outputs": [
        {
          "output_type": "execute_result",
          "data": {
            "text/plain": [
              "['fpg', 'gsr', 'ohu', 'xac', 'hja', 'sww', 'odk', 'aid', 'exf', 'pfp']"
            ]
          },
          "metadata": {},
          "execution_count": 22
        }
      ]
    },
    {
      "cell_type": "code",
      "source": [
        "# we are missing the start end token \".\", let's add it.\n",
        "# we can have it either in front or in the back of any letter.\n",
        "s = list(map(lambda x: x[0]+x[1], zip([\".\" for _ in range(26*26)],comb2)))\n",
        "e = list(map(lambda x: x[0]+x[1], zip(comb2, [\".\" for _ in range(26*26)])))"
      ],
      "metadata": {
        "id": "SEKPdlRp4S2m"
      },
      "execution_count": 28,
      "outputs": []
    },
    {
      "cell_type": "code",
      "source": [
        "random.sample(s,3)"
      ],
      "metadata": {
        "colab": {
          "base_uri": "https://localhost:8080/"
        },
        "id": "YXjW16zt424t",
        "outputId": "082775b3-47dd-4e44-b421-eb86d8994622"
      },
      "execution_count": 29,
      "outputs": [
        {
          "output_type": "execute_result",
          "data": {
            "text/plain": [
              "['.re', '.qb', '.os']"
            ]
          },
          "metadata": {},
          "execution_count": 29
        }
      ]
    },
    {
      "cell_type": "code",
      "source": [
        "random.sample(e,3)"
      ],
      "metadata": {
        "colab": {
          "base_uri": "https://localhost:8080/"
        },
        "id": "XA3xPIo75cvs",
        "outputId": "e3635872-1e2e-4d7f-e6a3-b12ba67f9227"
      },
      "execution_count": 30,
      "outputs": [
        {
          "output_type": "execute_result",
          "data": {
            "text/plain": [
              "['by.', 'cb.', 'es.']"
            ]
          },
          "metadata": {},
          "execution_count": 30
        }
      ]
    },
    {
      "cell_type": "code",
      "source": [
        "# add to our list of possible combinations:\n",
        "comb3 += s\n",
        "comb3 += e"
      ],
      "metadata": {
        "id": "Mca6sdP05eg7"
      },
      "execution_count": 32,
      "outputs": []
    },
    {
      "cell_type": "code",
      "source": [
        "print(f\"{len(comb3)} combiantions!\")\n",
        "print(f\"Sanity check: combs of letters + start + end = 26 x 26 x 26  + 728 + 728 = {26*26*26 + 26*26 + 26*26}\")"
      ],
      "metadata": {
        "colab": {
          "base_uri": "https://localhost:8080/"
        },
        "id": "317I2suAIt9Z",
        "outputId": "cafd32ac-8381-47f0-c07d-07c53668581e"
      },
      "execution_count": 33,
      "outputs": [
        {
          "output_type": "stream",
          "name": "stdout",
          "text": [
            "18928 combiantions!\n",
            "Sanity check: combs of letters + start + end = 26 x 26 x 26  + 728 + 728 = 18928\n"
          ]
        }
      ]
    },
    {
      "cell_type": "code",
      "source": [
        "# So what we have now is the possible first part of our fourgram,\n",
        "# which consist of 2 chars\n",
        "# We need a way of encoding it.\n",
        "chars_to_idx = {chars:idx for idx, chars in enumerate(comb3)}\n",
        "chars_to_idx[\"axh\"]"
      ],
      "metadata": {
        "colab": {
          "base_uri": "https://localhost:8080/"
        },
        "id": "uatbJPCi5mU-",
        "outputId": "4172dc84-f624-4f08-bc5b-e155a7e1c55f"
      },
      "execution_count": 34,
      "outputs": [
        {
          "output_type": "execute_result",
          "data": {
            "text/plain": [
              "605"
            ]
          },
          "metadata": {},
          "execution_count": 34
        }
      ]
    },
    {
      "cell_type": "code",
      "source": [
        "# Also we want a mapping back:\n",
        "idx_to_chars = {idx:chars for chars, idx in chars_to_idx.items()}\n",
        "idx_to_chars[605]"
      ],
      "metadata": {
        "colab": {
          "base_uri": "https://localhost:8080/",
          "height": 35
        },
        "id": "BfNJhd9D5osm",
        "outputId": "f5960e8c-5cb4-43c9-8e06-3c12a52fc21e"
      },
      "execution_count": 35,
      "outputs": [
        {
          "output_type": "execute_result",
          "data": {
            "text/plain": [
              "'axh'"
            ],
            "application/vnd.google.colaboratory.intrinsic+json": {
              "type": "string"
            }
          },
          "metadata": {},
          "execution_count": 35
        }
      ]
    },
    {
      "cell_type": "code",
      "source": [
        "# analog for the second part of the fourgram.\n",
        "char_to_idx = {char:idx for idx, char in enumerate(['.'] + alphabet)}\n",
        "char_to_idx[\"x\"]"
      ],
      "metadata": {
        "colab": {
          "base_uri": "https://localhost:8080/"
        },
        "id": "xYZQSqY16hcv",
        "outputId": "a739322b-36a1-4092-8b2e-29a0376450d2"
      },
      "execution_count": 36,
      "outputs": [
        {
          "output_type": "execute_result",
          "data": {
            "text/plain": [
              "24"
            ]
          },
          "metadata": {},
          "execution_count": 36
        }
      ]
    },
    {
      "cell_type": "code",
      "source": [
        "idx_to_char = {idx:char for char, idx in char_to_idx.items()}\n",
        "idx_to_char[23]"
      ],
      "metadata": {
        "colab": {
          "base_uri": "https://localhost:8080/",
          "height": 35
        },
        "id": "q9ECBCiI623B",
        "outputId": "5299d06e-6f65-4f81-a5d6-f8d61fb9010b"
      },
      "execution_count": 37,
      "outputs": [
        {
          "output_type": "execute_result",
          "data": {
            "text/plain": [
              "'w'"
            ],
            "application/vnd.google.colaboratory.intrinsic+json": {
              "type": "string"
            }
          },
          "metadata": {},
          "execution_count": 37
        }
      ]
    },
    {
      "cell_type": "code",
      "source": [
        "# Consider following list of words\n",
        "words = [\"dagobert\", \"donald\", \"gustav\"]\n",
        "words"
      ],
      "metadata": {
        "colab": {
          "base_uri": "https://localhost:8080/"
        },
        "id": "aCJqb7tq686F",
        "outputId": "d40ed4d4-eae8-4cda-9d84-10775a415e85"
      },
      "execution_count": 38,
      "outputs": [
        {
          "output_type": "execute_result",
          "data": {
            "text/plain": [
              "['dagobert', 'donald', 'gustav']"
            ]
          },
          "metadata": {},
          "execution_count": 38
        }
      ]
    },
    {
      "cell_type": "code",
      "source": [
        "# possible first part of fourgram\n",
        "list(map(lambda x: x[0]+x[1][0]+x[1][1], zip(\".\" + words[0], zip(words[0][:],words[0][1:]))))"
      ],
      "metadata": {
        "colab": {
          "base_uri": "https://localhost:8080/"
        },
        "id": "4ghBzy997p9a",
        "outputId": "266cdb6b-7b32-4a3d-d591-e635089fb7e5"
      },
      "execution_count": 51,
      "outputs": [
        {
          "output_type": "execute_result",
          "data": {
            "text/plain": [
              "['.da', 'dag', 'ago', 'gob', 'obe', 'ber', 'ert']"
            ]
          },
          "metadata": {},
          "execution_count": 51
        }
      ]
    },
    {
      "cell_type": "code",
      "source": [
        "# possible last part of fourgram\n",
        "[x for x in words[0][2:] + \".\"]"
      ],
      "metadata": {
        "colab": {
          "base_uri": "https://localhost:8080/"
        },
        "id": "WH4uiVgN8mxm",
        "outputId": "57c0ea36-5284-4924-9265-2fd2be127a73"
      },
      "execution_count": 52,
      "outputs": [
        {
          "output_type": "execute_result",
          "data": {
            "text/plain": [
              "['g', 'o', 'b', 'e', 'r', 't', '.']"
            ]
          },
          "metadata": {},
          "execution_count": 52
        }
      ]
    },
    {
      "cell_type": "code",
      "source": [
        "# lets print out all fourgrams in the above words!\n",
        "for word in words:\n",
        "  for x,y in zip(map(lambda x: x[0]+x[1][0]+x[1][1], \n",
        "                     zip(\".\" + word, zip(word[:],word[1:]))),\n",
        "                 [x for x in word[2:] + \".\"]):\n",
        "    print(x,y)"
      ],
      "metadata": {
        "colab": {
          "base_uri": "https://localhost:8080/"
        },
        "id": "FSNCrrdh9kiW",
        "outputId": "19b39470-8bd5-4501-cb5b-7702c3c3ed4a"
      },
      "execution_count": 55,
      "outputs": [
        {
          "output_type": "stream",
          "name": "stdout",
          "text": [
            ".da g\n",
            "dag o\n",
            "ago b\n",
            "gob e\n",
            "obe r\n",
            "ber t\n",
            "ert .\n",
            ".do n\n",
            "don a\n",
            "ona l\n",
            "nal d\n",
            "ald .\n",
            ".gu s\n",
            "gus t\n",
            "ust a\n",
            "sta v\n",
            "tav .\n"
          ]
        }
      ]
    },
    {
      "cell_type": "code",
      "source": [
        "# we can convert to int with the dicts from above:\n",
        "# lets print out all fourgrams in the above words!\n",
        "for word in words:\n",
        "  for x,y in zip(map(lambda x: x[0]+x[1][0]+x[1][1], \n",
        "                     zip(\".\" + word, zip(word[:],word[1:]))),\n",
        "                 [x for x in word[2:] + \".\"]):\n",
        "    x_i = chars_to_idx[x]\n",
        "    y_i = char_to_idx[y]\n",
        "    print(x_i, y_i)"
      ],
      "metadata": {
        "id": "3YGEnNhX-dDM",
        "colab": {
          "base_uri": "https://localhost:8080/"
        },
        "outputId": "f0b3e408-7cf6-4741-ac5b-466aa22e5bdd"
      },
      "execution_count": 56,
      "outputs": [
        {
          "output_type": "stream",
          "name": "stdout",
          "text": [
            "17654 7\n",
            "2034 15\n",
            "170 2\n",
            "4421 5\n",
            "9494 18\n",
            "797 20\n",
            "3165 0\n",
            "17668 14\n",
            "2405 1\n",
            "9802 12\n",
            "8799 4\n",
            "289 0\n",
            "17752 19\n",
            "4594 20\n",
            "14007 1\n",
            "12662 22\n",
            "12865 0\n"
          ]
        }
      ]
    },
    {
      "cell_type": "code",
      "source": [
        "def create_dataset(words):\n",
        "  x_s = []\n",
        "  y_s = []\n",
        "  for word in words:\n",
        "    for x,y in zip(map(lambda x: x[0]+x[1][0]+x[1][1], \n",
        "                     zip(\".\" + word, zip(word[:],word[1:]))),\n",
        "                 [x for x in word[2:] + \".\"]):\n",
        "      x_i = chars_to_idx[x]\n",
        "      y_i = char_to_idx[y]\n",
        "      x_s.append(x_i)\n",
        "      y_s.append(y_i)\n",
        "  return torch.tensor(x_s), torch.tensor(y_s)"
      ],
      "metadata": {
        "id": "TMMsvfJ6G_Ai"
      },
      "execution_count": 57,
      "outputs": []
    },
    {
      "cell_type": "code",
      "source": [
        "# Lets encode the names\n",
        "x_s, y_s = create_dataset(names)"
      ],
      "metadata": {
        "id": "PLOiKKBvWwqy"
      },
      "execution_count": 67,
      "outputs": []
    },
    {
      "cell_type": "markdown",
      "source": [
        "Steps for training sumarized:"
      ],
      "metadata": {
        "id": "p8hV8zBMWT-J"
      }
    },
    {
      "cell_type": "code",
      "source": [
        "# init Weights:\n",
        "def init_weight():\n",
        "  return torch.randn((18928,27), requires_grad=True)"
      ],
      "metadata": {
        "id": "cHI6_0ixV3RT"
      },
      "execution_count": 68,
      "outputs": []
    },
    {
      "cell_type": "code",
      "source": [
        "# calc log counts with indexing method (see notebook for exercises 2-5):\n",
        "def calc_log_counts(x_s, W):\n",
        "  return W[x_s]"
      ],
      "metadata": {
        "id": "yOFAgcgGV-5n"
      },
      "execution_count": 69,
      "outputs": []
    },
    {
      "cell_type": "code",
      "source": [
        "# calc counts:\n",
        "def calc_counts(logits):\n",
        "  return logits.exp()"
      ],
      "metadata": {
        "id": "CZ7li_x90wKt"
      },
      "execution_count": 78,
      "outputs": []
    },
    {
      "cell_type": "code",
      "source": [
        "# calc probs:\n",
        "def calc_probs(counts):\n",
        "  return counts/counts.sum(1, keepdims=True)"
      ],
      "metadata": {
        "id": "Q_J7OwVC0xox"
      },
      "execution_count": 79,
      "outputs": []
    },
    {
      "cell_type": "code",
      "source": [
        "# A step towards the right solution ;-):\n",
        "# Make use of pytorchs crossentropy for faster execution\n",
        "def step(x_s, ys, W, lr, reg=0):\n",
        "  # zero out the gradient:\n",
        "  W.grad = None\n",
        "  logits = calc_log_counts(x_s, W)\n",
        "  loss = F.cross_entropy(logits, ys)\n",
        "  # add regularization!\n",
        "  loss += reg*(W**2).mean()\n",
        "  # accumalate gradients\n",
        "  loss.backward()\n",
        "  # update!\n",
        "  with torch.no_grad():\n",
        "    W -= lr * W.grad\n",
        "  return loss, W"
      ],
      "metadata": {
        "id": "8UkFBU0sWpUj"
      },
      "execution_count": 70,
      "outputs": []
    },
    {
      "cell_type": "code",
      "source": [
        "# run a whole training loop:\n",
        "W = init_weight()\n",
        "for k in range(1000):\n",
        "  loss, W = step(x_s, y_s, W, 400, 0.0001)\n",
        "  if k%50 == 0:\n",
        "    print(f\"epoch = {k}\")\n",
        "    print(f\"current loss = {loss.item()}\")"
      ],
      "metadata": {
        "colab": {
          "base_uri": "https://localhost:8080/"
        },
        "id": "UurYDHdtX4E7",
        "outputId": "61179fb3-e2bd-4e24-e445-7866369cf3bd"
      },
      "execution_count": 97,
      "outputs": [
        {
          "output_type": "stream",
          "name": "stdout",
          "text": [
            "epoch = 0\n",
            "current loss = 3.776249408721924\n",
            "epoch = 50\n",
            "current loss = 2.373969793319702\n",
            "epoch = 100\n",
            "current loss = 2.151280164718628\n",
            "epoch = 150\n",
            "current loss = 2.0459976196289062\n",
            "epoch = 200\n",
            "current loss = 1.9819753170013428\n",
            "epoch = 250\n",
            "current loss = 1.937883734703064\n",
            "epoch = 300\n",
            "current loss = 1.9052724838256836\n",
            "epoch = 350\n",
            "current loss = 1.8799858093261719\n",
            "epoch = 400\n",
            "current loss = 1.8596954345703125\n",
            "epoch = 450\n",
            "current loss = 1.8429841995239258\n",
            "epoch = 500\n",
            "current loss = 1.8289380073547363\n",
            "epoch = 550\n",
            "current loss = 1.8169379234313965\n",
            "epoch = 600\n",
            "current loss = 1.8065502643585205\n",
            "epoch = 650\n",
            "current loss = 1.7974599599838257\n",
            "epoch = 700\n",
            "current loss = 1.7894316911697388\n",
            "epoch = 750\n",
            "current loss = 1.7822870016098022\n",
            "epoch = 800\n",
            "current loss = 1.7758852243423462\n",
            "epoch = 850\n",
            "current loss = 1.7701154947280884\n",
            "epoch = 900\n",
            "current loss = 1.7648885250091553\n",
            "epoch = 950\n",
            "current loss = 1.7601314783096313\n"
          ]
        }
      ]
    },
    {
      "cell_type": "code",
      "source": [
        "g = torch.Generator().manual_seed(2147483647)\n",
        "def create_names(num_names = 5, starting_letters = \"ab\"):\n",
        "  # to be reporoducible\n",
        "  random.seed(10)\n",
        "  # Now we can use our model to predict words!\n",
        "  for i in range(num_names):\n",
        "    out = \"\"\n",
        "    # Create names which start with ma\n",
        "    letters = \".\" + starting_letters\n",
        "    ixs = chars_to_idx[letters]\n",
        "    while True:\n",
        "      # Append letter to name\n",
        "      out += letters[1]\n",
        "      logits = calc_log_counts(ixs, W) \n",
        "      counts = calc_counts(logits) \n",
        "      p = counts/counts.sum()\n",
        "      # ----------\n",
        "      # Sample next letter from distribution given by the network!\n",
        "      ix = torch.multinomial(p, num_samples=1, replacement=True, generator=g).item()\n",
        "      # update the letters used to predict\n",
        "      letters = letters[1:] + idx_to_char[ix]\n",
        "      ixs = chars_to_idx[letters]\n",
        "      # end token -> Stop!\n",
        "      if ix == 0:\n",
        "        print(out)\n",
        "        break"
      ],
      "metadata": {
        "id": "so_jU6TLZ01y"
      },
      "execution_count": 98,
      "outputs": []
    },
    {
      "cell_type": "code",
      "source": [
        "create_names(20, \"lo\")"
      ],
      "metadata": {
        "colab": {
          "base_uri": "https://localhost:8080/"
        },
        "id": "ozKtOS6x4jek",
        "outputId": "016a1386-5450-40dd-d29d-321d60946481"
      },
      "execution_count": 111,
      "outputs": [
        {
          "output_type": "stream",
          "name": "stdout",
          "text": [
            "lorabel\n",
            "lou\n",
            "loeec\n",
            "lovehwvdfr\n",
            "lorhann\n",
            "logy\n",
            "lor\n",
            "lo\n",
            "lowayn\n",
            "loyalea\n",
            "lorey\n",
            "logenicarisha\n",
            "loveremere\n",
            "lolpbghcogqtdbe\n",
            "loy\n",
            "lorel\n",
            "love\n",
            "lokpyut\n",
            "lora\n",
            "lov\n"
          ]
        }
      ]
    },
    {
      "cell_type": "markdown",
      "source": [
        "Our model seems to be full of love :)\n"
      ],
      "metadata": {
        "id": "4DrcMdCmmssX"
      }
    }
  ]
}